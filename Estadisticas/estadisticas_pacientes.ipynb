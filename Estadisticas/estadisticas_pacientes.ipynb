{
  "nbformat": 4,
  "nbformat_minor": 0,
  "metadata": {
    "colab": {
      "provenance": []
    },
    "kernelspec": {
      "name": "python3",
      "display_name": "Python 3"
    },
    "language_info": {
      "name": "python"
    }
  },
  "cells": [
    {
      "cell_type": "code",
      "execution_count": 5,
      "metadata": {
        "id": "E9ZdDsd1KFhU"
      },
      "outputs": [],
      "source": [
        "import pandas as pd\n",
        "import numpy as np\n",
        "\n",
        "df = pd.read_csv(\"/content/datos_procesados.csv\")"
      ]
    },
    {
      "cell_type": "code",
      "metadata": {
        "colab": {
          "base_uri": "https://localhost:8080/"
        },
        "id": "5f320a77",
        "outputId": "2dc57816-badd-4438-aefd-d387a5dd0257"
      },
      "source": [
        "import os\n",
        "print(os.listdir('.'))"
      ],
      "execution_count": 3,
      "outputs": [
        {
          "output_type": "stream",
          "name": "stdout",
          "text": [
            "['.config', 'drive', 'sample_data']\n"
          ]
        }
      ]
    },
    {
      "cell_type": "code",
      "source": [
        "# --- Pacientes que agendaron cita según cada enermedad\n",
        "cols = ['hipertension', 'diabetes', 'alcoholismo', 'discapacidad']\n",
        "\n",
        "df[cols] = df[cols].apply(pd.to_numeric, errors='coerce')\n",
        "\n",
        "# --- Calculamos el promedio de pacientes con cada condición ---\n",
        "promedios = df[cols].mean().to_frame(name='Promedio de pacientes')\n",
        "promedios['Porcentaje (%)'] = promedios['Promedio de pacientes'] * 100\n",
        "\n",
        "# Redondeamos para mejor presentación\n",
        "promedios = promedios.round(2)\n",
        "\n",
        "# --- Mostramos la tabla ---\n",
        "print(\"=== PROMEDIO DE TODOS LOS PACIENTES CON CADA CONDICIÓN MÉDICA ===\")\n",
        "print(promedios)"
      ],
      "metadata": {
        "colab": {
          "base_uri": "https://localhost:8080/"
        },
        "id": "Y6IYcp0TObcv",
        "outputId": "41732232-589e-42e6-82aa-85b4019a4d6c"
      },
      "execution_count": 25,
      "outputs": [
        {
          "output_type": "stream",
          "name": "stdout",
          "text": [
            "=== PROMEDIO DE TODOS LOS PACIENTES CON CADA CONDICIÓN MÉDICA ===\n",
            "              Promedio de pacientes  Porcentaje (%)\n",
            "hipertension                   0.20           19.73\n",
            "diabetes                       0.07            7.19\n",
            "alcoholismo                    0.03            3.04\n",
            "discapacidad                   0.02            2.22\n"
          ]
        }
      ]
    },
    {
      "cell_type": "code",
      "source": [
        "cols_condiciones = ['hipertension', 'diabetes', 'alcoholismo', 'discapacidad']\n",
        "df[cols_condiciones + ['edad']] = df[cols_condiciones + ['edad']].apply(pd.to_numeric, errors='coerce')\n",
        "\n",
        "# --- Calcular edad promedio por condición ---\n",
        "# Se toma la edad promedio de los pacientes que SÍ tienen la condición (valor == 1)\n",
        "edad_promedio = {\n",
        "    'hipertension': df.loc[df['hipertension'] == 1, 'edad'].mean(),\n",
        "    'diabetes': df.loc[df['diabetes'] == 1, 'edad'].mean(),\n",
        "    'alcoholismo': df.loc[df['alcoholismo'] == 1, 'edad'].mean(),\n",
        "    'discapacidad': df.loc[df['discapacidad'] == 1, 'edad'].mean()\n",
        "}\n",
        "\n",
        "# Convertimos el diccionario en DataFrame para una presentación más clara\n",
        "tabla_edad = pd.DataFrame.from_dict(edad_promedio, orient='index', columns=['Edad promedio (años)']).round(2)\n",
        "\n",
        "# --- Mostrar la tabla ---\n",
        "print(\"=== EDAD PROMEDIO DE PACIENTES SEGÚN CADA CONDICIÓN MÉDICA ===\")\n",
        "print(tabla_edad)"
      ],
      "metadata": {
        "colab": {
          "base_uri": "https://localhost:8080/"
        },
        "id": "ryeUl2-0PUZf",
        "outputId": "b086918d-48a7-4608-837e-e7c26e2c496a"
      },
      "execution_count": 24,
      "outputs": [
        {
          "output_type": "stream",
          "name": "stdout",
          "text": [
            "=== EDAD PROMEDIO DE PACIENTES SEGÚN CADA CONDICIÓN MÉDICA ===\n",
            "              Edad promedio (años)\n",
            "hipertension                 60.61\n",
            "diabetes                     61.37\n",
            "alcoholismo                  49.59\n",
            "discapacidad                 50.73\n"
          ]
        }
      ]
    },
    {
      "cell_type": "code",
      "source": [
        "cols_condiciones = ['hipertension', 'diabetes', 'alcoholismo', 'discapacidad']\n",
        "col_vecindario = 'vecindario'  # cambia si tu dataset usa otro nombre (por ej. 'barrio', 'neighbourhood')\n",
        "\n",
        "# Convertir columnas a tipo numérico por seguridad\n",
        "df[cols_condiciones] = df[cols_condiciones].apply(pd.to_numeric, errors='coerce')\n",
        "\n",
        "# --- TABLAS INDEPENDIENTES POR ENFERMEDAD (solo top 10) ---\n",
        "\n",
        "# Hipertensión\n",
        "tabla_hipertension = df.groupby(col_vecindario)['hipertension'].mean().to_frame('Promedio hipertensión (%)') * 100\n",
        "tabla_hipertension = tabla_hipertension.round(2)\n",
        "tabla_hipertension_top15 = tabla_hipertension.nlargest(15, 'Promedio hipertensión (%)')\n",
        "\n",
        "\n",
        "# --- Mostrar tabla ---\n",
        "print(\"=== TOP 15 VECINDARIOS DONDE HABITAN PACIENTES CON HIPERTENSIÓN ===\")\n",
        "print(tabla_hipertension_top15, \"\\n\")\n"
      ],
      "metadata": {
        "colab": {
          "base_uri": "https://localhost:8080/"
        },
        "id": "XscgPSfSQF3o",
        "outputId": "cc2261aa-4c80-4d45-92c9-d1018a9a0153"
      },
      "execution_count": 29,
      "outputs": [
        {
          "output_type": "stream",
          "name": "stdout",
          "text": [
            "=== TOP 15 VECINDARIOS DONDE HABITAN PACIENTES CON HIPERTENSIÓN ===\n",
            "                   Promedio hipertensión (%)\n",
            "vecindario                                  \n",
            "DE LOURDES                             34.75\n",
            "SANTA CECÍLIA                          32.37\n",
            "PARQUE MOSCOSO                         32.04\n",
            "FONTE GRANDE                           31.23\n",
            "SANTOS DUMONT                          31.11\n",
            "SÃO CRISTÓVÃO                          30.34\n",
            "MARUÍPE                                29.02\n",
            "ESTRELINHA                             28.81\n",
            "GRANDE VITÓRIA                         28.20\n",
            "BELA VISTA                             27.79\n",
            "VILA RUBIM                             27.38\n",
            "SÃO PEDRO                              27.37\n",
            "UNIVERSITÁRIO                          26.97\n",
            "DA PENHA                               26.75\n",
            "ILHA DAS CAIEIRAS                      26.61 \n",
            "\n"
          ]
        }
      ]
    },
    {
      "cell_type": "code",
      "source": [
        "# Diabetes\n",
        "tabla_diabetes = df.groupby(col_vecindario)['diabetes'].mean().to_frame('Promedio diabetes (%)') * 100\n",
        "tabla_diabetes = tabla_diabetes.round(2)\n",
        "tabla_diabetes_top15 = tabla_diabetes.nlargest(15, 'Promedio diabetes (%)')\n",
        "\n",
        "# --- Mostrar tabla ---\n",
        "print(\"=== TOP 15 VECINDARIOS DONDE HABITAN PACIENTES CON DIABETES ===\")\n",
        "print(tabla_diabetes_top15, \"\\n\")\n",
        "\n"
      ],
      "metadata": {
        "colab": {
          "base_uri": "https://localhost:8080/"
        },
        "id": "pN0hwazlSfeE",
        "outputId": "ce86066c-9980-417b-de11-2d0901960527"
      },
      "execution_count": 30,
      "outputs": [
        {
          "output_type": "stream",
          "name": "stdout",
          "text": [
            "=== TOP 15 VECINDARIOS DONDE HABITAN PACIENTES CON DIABETES ===\n",
            "                   Promedio diabetes (%)\n",
            "vecindario                              \n",
            "MORADA DE CAMBURI                  13.54\n",
            "ANDORINHAS                         13.24\n",
            "COMDUSA                            12.26\n",
            "SÃO JOSÉ                           12.04\n",
            "DE LOURDES                         11.80\n",
            "PARQUE MOSCOSO                     11.72\n",
            "SÃO CRISTÓVÃO                      11.33\n",
            "UNIVERSITÁRIO                      11.18\n",
            "DA PENHA                           11.01\n",
            "ESTRELINHA                         10.97\n",
            "SANTOS DUMONT                      10.97\n",
            "GRANDE VITÓRIA                     10.92\n",
            "NOVA PALESTINA                     10.69\n",
            "ILHA DAS CAIEIRAS                  10.64\n",
            "VILA RUBIM                         10.58 \n",
            "\n"
          ]
        }
      ]
    },
    {
      "cell_type": "code",
      "source": [
        "# Alcoholismo\n",
        "tabla_alcoholismo = df.groupby(col_vecindario)['alcoholismo'].mean().to_frame('Promedio alcoholismo (%)') * 100\n",
        "tabla_alcoholismo = tabla_alcoholismo.round(2)\n",
        "tabla_alcoholismo_top15 = tabla_alcoholismo.nlargest(15, 'Promedio alcoholismo (%)')\n",
        "\n",
        "# --- Mostrar tabla ---\n",
        "print(\"=== TOP 15 VECINDARIOS DONDE HABITAN PACIENTES CON ALCOHOLISMO ===\")\n",
        "print(tabla_alcoholismo_top15, \"\\n\")\n"
      ],
      "metadata": {
        "colab": {
          "base_uri": "https://localhost:8080/"
        },
        "id": "q27Kn4qDTUjX",
        "outputId": "88d7c0e9-f02b-460f-8ff4-86860104cd21"
      },
      "execution_count": 31,
      "outputs": [
        {
          "output_type": "stream",
          "name": "stdout",
          "text": [
            "=== TOP 15 VECINDARIOS DONDE HABITAN PACIENTES CON ALCOHOLISMO ===\n",
            "                Promedio alcoholismo (%)\n",
            "vecindario                              \n",
            "ESTRELINHA                         14.68\n",
            "DO MOSCOSO                         13.08\n",
            "SANTA MARTHA                       10.99\n",
            "PRAIA DO SUÁ                        7.92\n",
            "DA PENHA                            7.76\n",
            "CRUZAMENTO                          6.94\n",
            "SÃO BENEDITO                        6.88\n",
            "INHANGUETÁ                          6.53\n",
            "SÃO PEDRO                           6.13\n",
            "BONFIM                              5.99\n",
            "ROMÃO                               5.65\n",
            "NOVA PALESTINA                      5.39\n",
            "SANTOS REIS                         5.12\n",
            "PIEDADE                             5.09\n",
            "BELA VISTA                          4.98 \n",
            "\n"
          ]
        }
      ]
    },
    {
      "cell_type": "code",
      "source": [
        "# Discapacidad\n",
        "tabla_discapacidad = df.groupby(col_vecindario)['discapacidad'].mean().to_frame('Promedio discapacidad (%)') * 100\n",
        "tabla_discapacidad = tabla_discapacidad.round(2)\n",
        "tabla_discapacidad_top15 = tabla_discapacidad.nlargest(15, 'Promedio discapacidad (%)')\n",
        "\n",
        "# --- Mostrar tabla ---\n",
        "print(\"=== TOP 15 PROMEDIO DE PACIENTES CON DISCAPACIDAD POR VECINDARIO ===\")\n",
        "print(tabla_discapacidad_top15, \"\\n\")"
      ],
      "metadata": {
        "colab": {
          "base_uri": "https://localhost:8080/"
        },
        "id": "iNiSgfZwToLp",
        "outputId": "ea68b09e-5e40-46c2-8798-ea9795b66c61"
      },
      "execution_count": 32,
      "outputs": [
        {
          "output_type": "stream",
          "name": "stdout",
          "text": [
            "=== TOP 15 PROMEDIO DE PACIENTES CON DISCAPACIDAD POR VECINDARIO ===\n",
            "                     Promedio discapacidad (%)\n",
            "vecindario                                    \n",
            "HORTO                                    10.86\n",
            "MATA DA PRAIA                             9.63\n",
            "DO QUADRO                                 6.48\n",
            "DE LOURDES                                6.23\n",
            "ESTRELINHA                                6.13\n",
            "GRANDE VITÓRIA                            5.60\n",
            "VILA RUBIM                                4.94\n",
            "SANTA LUÍZA                               4.91\n",
            "SANTA TEREZA                              4.65\n",
            "BELA VISTA                                4.40\n",
            "DA PENHA                                  4.06\n",
            "SÃO JOSÉ                                  4.00\n",
            "SÃO PEDRO                                 3.96\n",
            "ARIOVALDO FAVALESSA                       3.90\n",
            "SANTA MARTHA                              3.86 \n",
            "\n"
          ]
        }
      ]
    },
    {
      "cell_type": "code",
      "source": [
        "col_vecindario = 'vecindario'\n",
        "col_asistencia = 'asistio'         # columna que indica si asistió (1 = sí, 0 = no)\n",
        "\n",
        "df[col_asistencia] = pd.to_numeric(df[col_asistencia], errors='coerce')\n",
        "\n",
        "# Agrupar por vecindario y calcular la media (porcentaje de asistencia)\n",
        "tabla_asistencia = df.groupby(col_vecindario)[col_asistencia].mean().to_frame('Promedio asistencia (%)') * 100\n",
        "\n",
        "# Redondear a 2 decimales\n",
        "tabla_asistencia = tabla_asistencia.round(2)\n",
        "\n",
        "# Ordenar de mayor a menor y tomar solo el top 15\n",
        "tabla_asistencia_top15 = tabla_asistencia.sort_values(by='Promedio asistencia (%)', ascending=False).head(15)\n",
        "\n",
        "# Mostrar tabla\n",
        "print(\"=== TOP 15 VECINDARIOS SEGÚN PROMEDIO DE ASISTENCIA A SU CITA ===\")\n",
        "print(tabla_asistencia_top15)"
      ],
      "metadata": {
        "colab": {
          "base_uri": "https://localhost:8080/"
        },
        "id": "dY9HemMcTc6R",
        "outputId": "8dbc2ea8-23ac-4ae1-9eb4-8c2d12f22006"
      },
      "execution_count": 35,
      "outputs": [
        {
          "output_type": "stream",
          "name": "stdout",
          "text": [
            "=== TOP 15 VECINDARIOS SEGÚN PROMEDIO DE ASISTENCIA A SU CITA ===\n",
            "                             Promedio asistencia (%)\n",
            "vecindario                                          \n",
            "ILHAS OCEÂNICAS DE TRINDADE                   100.00\n",
            "SANTOS DUMONT                                  28.92\n",
            "SANTA CECÍLIA                                  27.46\n",
            "SANTA CLARA                                    26.48\n",
            "ITARARÉ                                        26.27\n",
            "JESUS DE NAZARETH                              24.40\n",
            "HORTO                                          24.00\n",
            "ILHA DO PRÍNCIPE                               23.48\n",
            "CARATOÍRA                                      23.04\n",
            "ANDORINHAS                                     22.94\n",
            "PRAIA DO SUÁ                                   22.83\n",
            "GURIGICA                                       22.60\n",
            "BENTO FERREIRA                                 22.49\n",
            "PARQUE MOSCOSO                                 22.32\n",
            "MARUÍPE                                        22.29\n"
          ]
        }
      ]
    },
    {
      "cell_type": "code",
      "source": [
        "tabla_asistencia_top15_menor = tabla_asistencia.sort_values(by='Promedio asistencia (%)', ascending=True).head(15)\n",
        "\n",
        "# Mostrar tabla\n",
        "print(\"=== TOP 15 VECINDARIOS CON MENOR PROMEDIO DE ASISTENCIA A SU CITA ===\")\n",
        "print(tabla_asistencia_top15_menor)"
      ],
      "metadata": {
        "colab": {
          "base_uri": "https://localhost:8080/"
        },
        "id": "LDQNJGlIgZ_4",
        "outputId": "5d191f31-02b3-4c58-fc43-0738d322fd7d"
      },
      "execution_count": 36,
      "outputs": [
        {
          "output_type": "stream",
          "name": "stdout",
          "text": [
            "=== TOP 15 VECINDARIOS CON MENOR PROMEDIO DE ASISTENCIA A SU CITA ===\n",
            "                   Promedio asistencia (%)\n",
            "vecindario                                \n",
            "PARQUE INDUSTRIAL                     0.00\n",
            "ILHA DO BOI                           8.57\n",
            "AEROPORTO                            12.50\n",
            "MÁRIO CYPRESTE                       14.56\n",
            "SOLON BORGES                         14.71\n",
            "DE LOURDES                           15.41\n",
            "DO CABRAL                            15.71\n",
            "SANTA MARTHA                         15.84\n",
            "JARDIM DA PENHA                      16.28\n",
            "DO QUADRO                            16.49\n",
            "VILA RUBIM                           16.57\n",
            "MORADA DE CAMBURI                    16.67\n",
            "MATA DA PRAIA                        17.08\n",
            "REPÚBLICA                            17.13\n",
            "CONSOLAÇÃO                           17.22\n"
          ]
        }
      ]
    }
  ]
}